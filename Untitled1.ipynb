{
  "nbformat": 4,
  "nbformat_minor": 0,
  "metadata": {
    "colab": {
      "private_outputs": true,
      "provenance": [],
      "authorship_tag": "ABX9TyOf7FjJFe7cYmt2Z84R+75u",
      "include_colab_link": true
    },
    "kernelspec": {
      "name": "python3",
      "display_name": "Python 3"
    },
    "language_info": {
      "name": "python"
    }
  },
  "cells": [
    {
      "cell_type": "markdown",
      "metadata": {
        "id": "view-in-github",
        "colab_type": "text"
      },
      "source": [
        "<a href=\"https://colab.research.google.com/github/michele-santos/Projeto/blob/main/Untitled1.ipynb\" target=\"_parent\"><img src=\"https://colab.research.google.com/assets/colab-badge.svg\" alt=\"Open In Colab\"/></a>"
      ]
    },
    {
      "cell_type": "code",
      "execution_count": null,
      "metadata": {
        "id": "gYVDTYeaXrh5"
      },
      "outputs": [],
      "source": [
        "import unittest\n",
        "\n",
        "\n",
        "\n",
        "class TestCadastroClientes(unittest.TestCase):\n",
        "\n",
        "\n",
        "\n",
        "    def test_cadastro_cliente(self):\n",
        "\n",
        "        # Criação de um cliente\n",
        "\n",
        "        cliente = Cliente(nome=\"ClienteTeste\", cpf=\"123.456.789-00\", email=\"cliente@teste.com\", contato=\"123456789\", endereco=\"Rua Teste, 123\")\n",
        "\n",
        ""
      ]
    }
  ]
}